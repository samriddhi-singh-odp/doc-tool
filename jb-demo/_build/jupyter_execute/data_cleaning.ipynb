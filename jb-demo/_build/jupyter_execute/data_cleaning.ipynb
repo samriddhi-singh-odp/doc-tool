{
 "cells": [
  {
   "cell_type": "markdown",
   "id": "407cf26a",
   "metadata": {},
   "source": [
    "# Cleaning Data"
   ]
  },
  {
   "cell_type": "code",
   "execution_count": 1,
   "id": "116d6385",
   "metadata": {},
   "outputs": [
    {
     "name": "stdout",
     "output_type": "stream",
     "text": [
      "This file is to clean data\n"
     ]
    }
   ],
   "source": [
    "print(\"This file is to clean data\")"
   ]
  },
  {
   "cell_type": "markdown",
   "id": "ffc46e0d",
   "metadata": {},
   "source": [
    "```{code-cell} ipython3\n",
    ":tags: [thebe-init]\n",
    "# This cell will auto-run when Thebe kernel starts\n",
    "print(\"Thebe is working!\")"
   ]
  }
 ],
 "metadata": {
  "kernelspec": {
   "display_name": "Python 3",
   "language": "python",
   "name": "python3"
  },
  "language_info": {
   "codemirror_mode": {
    "name": "ipython",
    "version": 3
   },
   "file_extension": ".py",
   "mimetype": "text/x-python",
   "name": "python",
   "nbconvert_exporter": "python",
   "pygments_lexer": "ipython3",
   "version": "3.10.2"
  }
 },
 "nbformat": 4,
 "nbformat_minor": 5
}