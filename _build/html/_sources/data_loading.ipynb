{
 "cells": [
  {
   "cell_type": "markdown",
   "id": "72031dc9",
   "metadata": {},
   "source": [
    "# Loading Data"
   ]
  },
  {
   "cell_type": "code",
   "execution_count": 3,
   "id": "3de0322b",
   "metadata": {},
   "outputs": [
    {
     "name": "stdout",
     "output_type": "stream",
     "text": [
      "This file is to load data\n"
     ]
    }
   ],
   "source": [
    "print(\"This file is to load data\")"
   ]
  },
  {
   "cell_type": "markdown",
   "id": "b708a88e",
   "metadata": {},
   "source": [
    "```{figure} logo.png\n",
    "---\n",
    "name: my-logo\n",
    "height: 200px\n",
    "---\n",
    "This is the logo or a sample flowchart."
   ]
  },
  {
   "cell_type": "markdown",
   "id": "f06fd96b",
   "metadata": {},
   "source": [
    "```{code-cell}\n",
    "import pandas as pd\n",
    "df = pd.DataFrame({\"x\": [1, 2, 3], \"y\": [4, 5, 6]})\n",
    "df"
   ]
  }
 ],
 "metadata": {
  "kernelspec": {
   "display_name": "Python 3",
   "language": "python",
   "name": "python3"
  },
  "language_info": {
   "codemirror_mode": {
    "name": "ipython",
    "version": 3
   },
   "file_extension": ".py",
   "mimetype": "text/x-python",
   "name": "python",
   "nbconvert_exporter": "python",
   "pygments_lexer": "ipython3",
   "version": "3.10.2"
  }
 },
 "nbformat": 4,
 "nbformat_minor": 5
}
